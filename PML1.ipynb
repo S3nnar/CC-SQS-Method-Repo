{
  "nbformat": 4,
  "nbformat_minor": 0,
  "metadata": {
    "colab": {
      "provenance": [],
      "authorship_tag": "ABX9TyMurPEZVxJfmEKzWJ+peGnn",
      "include_colab_link": true
    },
    "kernelspec": {
      "name": "python3",
      "display_name": "Python 3"
    },
    "language_info": {
      "name": "python"
    }
  },
  "cells": [
    {
      "cell_type": "markdown",
      "metadata": {
        "id": "view-in-github",
        "colab_type": "text"
      },
      "source": [
        "<a href=\"https://colab.research.google.com/github/S3nnar/CC-SQS-Method-Repo/blob/main/PML1.ipynb\" target=\"_parent\"><img src=\"https://colab.research.google.com/assets/colab-badge.svg\" alt=\"Open In Colab\"/></a>"
      ]
    },
    {
      "cell_type": "markdown",
      "source": [
        "Der vorliegende Code implementiert einen Naive-Bayes-Klassifikator zur Klassifikation medizinischer Daten und verwendet einen Datensatz, der Informationen über Entzündungen und Nephritis (Nierenentzündungen) enthält. Der Code trainiert den Klassifikator anhand eines Teils der Daten und bewertet die Genauigkeit der Vorhersagen anhand eines separaten Testdatensatzes. Die Performance des Modells wird abschließend mittels einer Confusion Matrix visualisiert."
      ],
      "metadata": {
        "id": "z7ZHZmlHNswW"
      }
    },
    {
      "cell_type": "markdown",
      "source": [
        "Der Naive-Bayes-Klassifikator ist ein einfaches, aber leistungsstarkes Modell, das auf dem Bayes-Theorem basiert. Das Modell schätzt die Wahrscheinlichkeit, dass ein Datenpunkt einer bestimmten Klasse angehört, basierend auf den Werten seiner Merkmale. Eine wichtige Annahme dieses Modells ist die Unabhängigkeit der Merkmale, d.h., dass jedes Merkmal unabhängig von den anderen zur Klassifikation beiträgt (daher \"naiv\").\n",
        "\n",
        "Das Bayes-Theorem lautet wie folgt:\n",
        "$$ P(A|B) = \\frac{P(B|A) \\cdot P(A)}{P(B)} $$\n",
        "\n",
        "\n",
        "In diesem Zusammenhang steht:\n",
        "\n",
        "  P(A∣B) für die Wahrscheinlichkeit, dass die Klasse A (z.B. \"Entzündung vorhanden\") vorliegt, wenn die Merkmale B (z.B. Fieber, Schmerzen usw.) beobachtet werden.\\\n",
        "  P(B∣A) ist die Wahrscheinlichkeit, die Merkmale B zu sehen, wenn die Klasse A vorliegt.\\\n",
        "  P(A) ist die a-priori Wahrscheinlichkeit der Klasse A (wie häufig tritt die Klasse auf).\\\n",
        "  P(B) ist die Wahrscheinlichkeit, die Merkmale B zu sehen.​"
      ],
      "metadata": {
        "id": "Mi2-EnCKOA2c"
      }
    },
    {
      "cell_type": "markdown",
      "source": [
        "Der Konstruktor der Klasse initialisiert die Variablen, die während des Trainings und der Vorhersagen verwendet werden.\n",
        "\n",
        "  prior_probs: Speichert die a-priori Wahrscheinlichkeiten jeder Klasse. Diese geben an, wie wahrscheinlich es ist, dass ein Datenpunkt zu einer bestimmten Klasse gehört, ohne die Merkmale zu berücksichtigen.\n",
        "\n",
        "  conditional_probs: Speichert die bedingten Wahrscheinlichkeiten für jede Kombination aus Merkmal und Klasse. Dies sind die Wahrscheinlichkeiten, dass ein bestimmter Wert eines Merkmals in einer bestimmten Klasse auftritt.\n",
        "\n",
        "  classes: Speichert die eindeutigen Klassen, die im Zielwert (y) vorhanden sind."
      ],
      "metadata": {
        "id": "FBSoyZRQQE5B"
      }
    },
    {
      "cell_type": "code",
      "execution_count": 1,
      "metadata": {
        "id": "xplYO48fI2Jr"
      },
      "outputs": [],
      "source": [
        "# Diese Klasse wird hier im ganzen angegeben, damit die Methoden der Klasse zugeordnet werden.\n",
        "# Weiter unten folgen die Erklärungen für die einzelnen Methoden.\n",
        "import pandas as pd\n",
        "import math\n",
        "\n",
        "class NaiveBayes:\n",
        "    def __init__(self):\n",
        "        # Initialisierung der Wahrscheinlichkeiten und Klassen\n",
        "        self.prior_probs = {}         # A-priori Wahrscheinlichkeiten für jede Klasse\n",
        "        self.conditional_probs = {}   # Bedingte Wahrscheinlichkeiten für jedes Feature in jeder Klasse\n",
        "        self.classes = []             # Liste der vorhandenen Klassen\n",
        "\n",
        "    # Die fit-Methode trainiert den Naive-Bayes-Klassifikator\n",
        "    # Sie berechnet die a-priori Wahrscheinlichkeiten und die bedingten Wahrscheinlichkeiten\n",
        "    def fit(self, X, y):\n",
        "        # Speichern der eindeutigen Klassen (True/False oder andere)\n",
        "        self.classes = y.unique()\n",
        "\n",
        "        # Berechnung der a-priori Wahrscheinlichkeiten für jede Klasse\n",
        "        for class_label in self.classes:\n",
        "            # Anzahl der Vorkommen der Klasse class_label\n",
        "            class_count = (y == class_label).sum()\n",
        "            # A-priori Wahrscheinlichkeit der Klasse class_label\n",
        "            self.prior_probs[class_label] = class_count / len(y)\n",
        "\n",
        "            # Berechnung der bedingten Wahrscheinlichkeiten für jede Feature-Spalte\n",
        "            self.conditional_probs[class_label] = {}\n",
        "            for column in X.columns:\n",
        "                self.conditional_probs[class_label][column] = {}\n",
        "\n",
        "                # Alle möglichen Werte des Features (z.B. ja/nein, Temperaturwerte)\n",
        "                feature_values = X[column].unique()\n",
        "                for value in feature_values:\n",
        "                    # Anzahl der Vorkommen des Wertes 'value' in der Klasse 'class_label'\n",
        "                    feature_class_count = ((X[column] == value) & (y == class_label)).sum()\n",
        "                    # Bedingte Wahrscheinlichkeit für das Feature gegeben die Klasse\n",
        "                    self.conditional_probs[class_label][column][value] = feature_class_count / class_count\n",
        "\n",
        "    # Die predict_probability-Methode berechnet die Wahrscheinlichkeiten jeder Klasse\n",
        "    # für jeden Datenpunkt in X, basierend auf den bedingten Wahrscheinlichkeiten und der a-priori Wahrscheinlichkeit.\n",
        "    def predict_probability(self, X):\n",
        "        predictions = []  # Liste, die die Wahrscheinlichkeiten für jede Klasse speichert\n",
        "\n",
        "        # Iteriere über jede Zeile in den Eingabedaten\n",
        "        for index, row in X.iterrows():\n",
        "            class_probs = {}  # Dictionary, um Wahrscheinlichkeiten für jede Klasse zu speichern\n",
        "            for class_label in self.classes:\n",
        "                # Beginne mit der a-priori Wahrscheinlichkeit der Klasse\n",
        "                class_probs[class_label] = self.prior_probs[class_label]\n",
        "\n",
        "                # Multipliziere die a-priori Wahrscheinlichkeit mit den bedingten Wahrscheinlichkeiten für jedes Feature\n",
        "                for column in X.columns:\n",
        "                    feature_value = row[column]\n",
        "                    if feature_value in self.conditional_probs[class_label][column]:\n",
        "                        # Multipliziere mit der bedingten Wahrscheinlichkeit\n",
        "                        class_probs[class_label] *= self.conditional_probs[class_label][column][feature_value]\n",
        "                    else:\n",
        "                        # Falls der Wert im Trainingssatz nicht vorkam, multipliziere mit einer kleinen Wahrscheinlichkeit\n",
        "                        class_probs[class_label] *= 1e-6  # Glättung\n",
        "            # Füge die Wahrscheinlichkeiten des Datenpunkts zur Liste hinzu\n",
        "            predictions.append(class_probs)\n",
        "\n",
        "        return predictions\n",
        "\n",
        "    # Die predict-Methode gibt für jeden Datenpunkt die Klasse mit der höchsten Wahrscheinlichkeit zurück.\n",
        "    def predict(self, X):\n",
        "        # Berechne die Wahrscheinlichkeiten für jede Klasse\n",
        "        predictions = self.predict_probability(X)\n",
        "\n",
        "        # Für jede Vorhersage finde die Klasse mit der höchsten Wahrscheinlichkeit\n",
        "        return [max(prediction, key=prediction.get) for prediction in predictions]\n",
        "\n",
        "    # Die evaluate_on_data-Methode berechnet die Genauigkeit (Accuracy) des Modells\n",
        "    # Die Accuracy ist der Anteil der korrekten Vorhersagen.\n",
        "    def evaluate_on_data(self, X, y):\n",
        "        # Erhalte die Vorhersagen für den Testdatensatz\n",
        "        predictions = self.predict(X)\n",
        "\n",
        "        # Vergleiche die Vorhersagen mit den tatsächlichen Werten und berechne die Genauigkeit\n",
        "        accuracy = sum(predictions == y) / len(y)\n",
        "        return accuracy\n"
      ]
    },
    {
      "cell_type": "markdown",
      "source": [
        "Die fit-Methode trainiert den Naive-Bayes-Klassifikator, indem sie auf Basis der Trainingsdaten die Wahrscheinlichkeiten berechnet:\n",
        "\n",
        "  A-priori Wahrscheinlichkeit: Die Wahrscheinlichkeit einer Klasse basierend auf der Häufigkeit dieser Klasse in den Trainingsdaten.\n",
        "\n",
        "$$\n",
        "P(A) = \\frac{\\text{Anzahl der Vorkommen der Klasse } A}{\\text{Anzahl aller Trainingsbeispiele}}\n",
        "$$\n",
        "\n",
        "\n",
        "  Bedingte Wahrscheinlichkeit: Die Wahrscheinlichkeit, dass ein bestimmter Wert eines Merkmals auftritt, gegeben die Klasse.\n",
        "\n",
        "$$\n",
        "P(B_i|A) = \\frac{\\text{Anzahl der Vorkommen von } B_i \\text{ in Klasse } A}{\\text{Anzahl der Vorkommen von Klasse } A}\n",
        "$$"
      ],
      "metadata": {
        "id": "oImzkI7nQXJn"
      }
    },
    {
      "cell_type": "code",
      "source": [
        "# Die fit-Methode trainiert den Naive-Bayes-Klassifikator\n",
        "# Sie berechnet die a-priori Wahrscheinlichkeiten und die bedingten Wahrscheinlichkeiten\n",
        "def fit(self, X, y):\n",
        "    # Speichern der eindeutigen Klassen (True/False oder andere)\n",
        "    self.classes = y.unique()\n",
        "\n",
        "    # Berechnung der a-priori Wahrscheinlichkeiten für jede Klasse\n",
        "    for class_label in self.classes:\n",
        "        # Anzahl der Vorkommen der Klasse class_label\n",
        "        class_count = (y == class_label).sum()\n",
        "        # A-priori Wahrscheinlichkeit der Klasse class_label\n",
        "        self.prior_probs[class_label] = class_count / len(y)\n",
        "\n",
        "        # Berechnung der bedingten Wahrscheinlichkeiten für jede Feature-Spalte\n",
        "        self.conditional_probs[class_label] = {}\n",
        "        for column in X.columns:\n",
        "            self.conditional_probs[class_label][column] = {}\n",
        "\n",
        "            # Alle möglichen Werte des Features (z.B. ja/nein, Temperaturwerte)\n",
        "            feature_values = X[column].unique()\n",
        "            for value in feature_values:\n",
        "                # Anzahl der Vorkommen des Wertes 'value' in der Klasse 'class_label'\n",
        "                feature_class_count = ((X[column] == value) & (y == class_label)).sum()\n",
        "                # Bedingte Wahrscheinlichkeit für das Feature gegeben die Klasse\n",
        "                self.conditional_probs[class_label][column][value] = feature_class_count / class_count\n"
      ],
      "metadata": {
        "id": "8qrKNdAWQXpF"
      },
      "execution_count": 2,
      "outputs": []
    },
    {
      "cell_type": "markdown",
      "source": [
        "Die predict_probability-Methode berechnet die Wahrscheinlichkeiten für jede Klasse basierend auf den Merkmalen eines neuen Datenpunkts. Dies geschieht durch die Anwendung des Bayes-Theorems:\n",
        "\n",
        "$$\n",
        "P(A|B_1, B_2, \\dots, B_n) = P(A) \\cdot P(B_1|A) \\cdot P(B_2|A) \\cdot \\dots \\cdot P(B_n|A)\n",
        "$$\n",
        "\n",
        "  Dabei wird die a-priori Wahrscheinlichkeit P(A) mit den bedingten Wahrscheinlichkeiten für jedes Merkmal multipliziert. Wenn ein Merkmalswert im Trainingsdatensatz nicht vorhanden ist, wird eine sehr kleine Wahrscheinlichkeit (1e-6) verwendet, um die Division durch null zu vermeiden."
      ],
      "metadata": {
        "id": "30wHkoo_Q9tC"
      }
    },
    {
      "cell_type": "code",
      "source": [
        "# Die predict_probability-Methode berechnet die Wahrscheinlichkeiten jeder Klasse\n",
        "# für jeden Datenpunkt in X, basierend auf den bedingten Wahrscheinlichkeiten und der a-priori Wahrscheinlichkeit.\n",
        "def predict_probability(self, X):\n",
        "    predictions = []  # Liste, die die Wahrscheinlichkeiten für jede Klasse speichert\n",
        "\n",
        "    # Iteriere über jede Zeile in den Eingabedaten\n",
        "    for index, row in X.iterrows():\n",
        "        class_probs = {}  # Dictionary, um Wahrscheinlichkeiten für jede Klasse zu speichern\n",
        "        for class_label in self.classes:\n",
        "            # Beginne mit der a-priori Wahrscheinlichkeit der Klasse\n",
        "            class_probs[class_label] = self.prior_probs[class_label]\n",
        "\n",
        "            # Multipliziere die a-priori Wahrscheinlichkeit mit den bedingten Wahrscheinlichkeiten für jedes Feature\n",
        "            for column in X.columns:\n",
        "                feature_value = row[column]\n",
        "                if feature_value in self.conditional_probs[class_label][column]:\n",
        "                    # Multipliziere mit der bedingten Wahrscheinlichkeit\n",
        "                    class_probs[class_label] *= self.conditional_probs[class_label][column][feature_value]\n",
        "                else:\n",
        "                    # Falls der Wert im Trainingssatz nicht vorkam, multipliziere mit einer kleinen Wahrscheinlichkeit\n",
        "                    class_probs[class_label] *= 1e-6  # Glättung\n",
        "        # Füge die Wahrscheinlichkeiten des Datenpunkts zur Liste hinzu\n",
        "        predictions.append(class_probs)\n",
        "\n",
        "    return predictions"
      ],
      "metadata": {
        "id": "gIx7ZyvTRCSO"
      },
      "execution_count": 3,
      "outputs": []
    },
    {
      "cell_type": "markdown",
      "source": [
        "Die predict-Methode gibt für jeden Datenpunkt die Klasse zurück, die die höchste berechnete Wahrscheinlichkeit hat. Dies wird erreicht, indem für jede Vorhersage die Klasse mit der höchsten Wahrscheinlichkeit ausgewählt wird."
      ],
      "metadata": {
        "id": "ar1Zy8TBRE7H"
      }
    },
    {
      "cell_type": "code",
      "source": [
        "# Die predict-Methode gibt für jeden Datenpunkt die Klasse mit der höchsten Wahrscheinlichkeit zurück.\n",
        "def predict(self, X):\n",
        "    # Berechne die Wahrscheinlichkeiten für jede Klasse\n",
        "    predictions = self.predict_probability(X)\n",
        "\n",
        "    # Für jede Vorhersage finde die Klasse mit der höchsten Wahrscheinlichkeit\n",
        "    return [max(prediction, key=prediction.get) for prediction in predictions]"
      ],
      "metadata": {
        "id": "WuPZg6j2RJF6"
      },
      "execution_count": 4,
      "outputs": []
    },
    {
      "cell_type": "markdown",
      "source": [
        "Die evaluate_on_data-Methode berechnet die Genauigkeit (Accuracy) des Modells. Die Genauigkeit ist definiert als der Anteil der korrekten Vorhersagen im Vergleich zu allen Vorhersagen:\n",
        "\n",
        "$$\n",
        "\\text{Accuracy} = \\frac{\\text{Anzahl der korrekten Vorhersagen}}{\\text{Anzahl aller Vorhersagen}}\n",
        "$$"
      ],
      "metadata": {
        "id": "y_tNgwY5RNX_"
      }
    },
    {
      "cell_type": "code",
      "source": [
        "# Die evaluate_on_data-Methode berechnet die Genauigkeit (Accuracy) des Modells\n",
        "# Die Accuracy ist der Anteil der korrekten Vorhersagen.\n",
        "def evaluate_on_data(self, X, y):\n",
        "    # Erhalte die Vorhersagen für den Testdatensatz\n",
        "    predictions = self.predict(X)\n",
        "\n",
        "    # Vergleiche die Vorhersagen mit den tatsächlichen Werten und berechne die Genauigkeit\n",
        "    accuracy = sum(predictions == y) / len(y)\n",
        "    return accuracy\n"
      ],
      "metadata": {
        "id": "sKuXDYdTRN_m"
      },
      "execution_count": 5,
      "outputs": []
    },
    {
      "cell_type": "markdown",
      "source": [
        "In diesem Code wird ein Naive-Bayes-Klassifikator auf einen medizinischen Datensatz angewendet, der Informationen über Patienten enthält. Es wird ein Modell trainiert, um basierend auf bestimmten Symptomen (wie Entzündung und Nephritis) vorherzusagen, ob ein Patient eine bestimmte Krankheit hat. Nach dem Training wird das Modell mit Testdaten evaluiert, und die Ergebnisse werden in Form einer Confusion Matrix visualisiert.\n",
        "\n",
        "Der Code ist in mehrere Schritte unterteilt, die wir im Folgenden erklären:"
      ],
      "metadata": {
        "id": "CmCH-LC5h5Br"
      }
    },
    {
      "cell_type": "markdown",
      "source": [
        "Der Datensatz wird eingelesen, wobei das Semikolon als Trennzeichen verwendet wird, um die Daten korrekt in Spalten zu unterteilen.\n",
        "Die Zielvariable disease wird erstellt. Diese Zielvariable ist eine boolesche (True/False) Variable, die basierend auf den Spalten inflammation (Entzündung) und nephritis (Nierenentzündung) gesetzt wird. Wenn entweder eine Entzündung oder eine Nierenentzündung auftritt, wird disease auf True gesetzt.\n",
        "Die ursprünglichen Spalten inflammation und nephritis werden entfernt, da sie nun durch die kombinierte Zielvariable disease ersetzt wurden."
      ],
      "metadata": {
        "id": "PZyh6rBhmIMm"
      }
    },
    {
      "cell_type": "code",
      "source": [
        "import pandas as pd\n",
        "import matplotlib.pyplot as plt\n",
        "\n",
        "# Daten laden mit Semikolon als Trennzeichen\n",
        "data = pd.read_csv('inflammation_diagnosis.csv', delimiter=';')\n",
        "\n",
        "# Erstelle die Zielvariable 'disease'\n",
        "data['disease'] = (data['inflammation'] == 'yes') | (data['nephritis'] == 'yes')\n",
        "\n",
        "# Originalspalten entfernen\n",
        "data = data.drop(columns=['inflammation', 'nephritis'])"
      ],
      "metadata": {
        "id": "L7Q5k5kFJ5gv"
      },
      "execution_count": 6,
      "outputs": []
    },
    {
      "cell_type": "markdown",
      "source": [
        "Die Daten werden in Features (X) und die Zielvariable (y) aufgeteilt:\n",
        "\n",
        "  X enthält alle Merkmale (Symptome).\n",
        "  y enthält die Zielvariable, ob eine Krankheit vorliegt oder nicht.\n",
        "\n",
        "Die Daten werden gemischt (Shuffling) und manuell in Trainingsdaten (80%) und Testdaten (20%) aufgeteilt. Dadurch wird sichergestellt, dass das Modell nicht auf genau den gleichen Daten getestet wird, auf denen es trainiert wurde, was zu einer besseren Generalisierung führt."
      ],
      "metadata": {
        "id": "0W3NnoxZmcms"
      }
    },
    {
      "cell_type": "code",
      "source": [
        "# Feature- und Zielspalten trennen\n",
        "X = data.drop(columns=['disease'])\n",
        "y = data['disease']\n",
        "\n",
        "# Split in Training- und Testdaten (manuell, ohne sklearn)\n",
        "data_shuffled = data.sample(frac=1, random_state=420).reset_index(drop=True)\n",
        "train_size = int(0.8 * len(data_shuffled))\n",
        "\n",
        "X_train = data_shuffled.iloc[:train_size].drop(columns=['disease'])\n",
        "y_train = data_shuffled.iloc[:train_size]['disease']\n",
        "\n",
        "X_test = data_shuffled.iloc[train_size:].drop(columns=['disease'])\n",
        "y_test = data_shuffled.iloc[train_size:]['disease']"
      ],
      "metadata": {
        "id": "Jhf477HjmqX5"
      },
      "execution_count": 7,
      "outputs": []
    },
    {
      "cell_type": "markdown",
      "source": [
        "Der Naive-Bayes-Klassifikator wird auf den Trainingsdaten trainiert.\n",
        "\n",
        "Das Modell verwendet die fit-Methode, um die a-priori Wahrscheinlichkeiten und die bedingten Wahrscheinlichkeiten für die Merkmale (Features) zu lernen.\n",
        "\n",
        "Nach dem Training werden auf den Testdaten mit der Methode predict Vorhersagen getroffen.\n",
        "\n",
        "Die Vorhersagen werden in eine Pandas Series umgewandelt, um sicherzustellen, dass die Indizes von y_pred und y_test übereinstimmen. Dies ist wichtig für die spätere Berechnung der Genauigkeit und der Confusion Matrix."
      ],
      "metadata": {
        "id": "eIIIxflImsKI"
      }
    },
    {
      "cell_type": "code",
      "source": [
        "# NaiveBayes-Klasse instanziieren und trainieren\n",
        "nb = NaiveBayes()\n",
        "nb.fit(X_train, y_train)\n",
        "\n",
        "# Generiere Vorhersagen\n",
        "y_pred = nb.predict(X_test)\n",
        "\n",
        "# Konvertiere y_pred in eine Pandas Series mit dem gleichen Index wie y_test\n",
        "y_pred = pd.Series(y_pred, index=y_test.index)"
      ],
      "metadata": {
        "id": "QrwI2-GZmzPA"
      },
      "execution_count": 8,
      "outputs": []
    },
    {
      "cell_type": "markdown",
      "source": [
        "Die Accuracy (Genauigkeit) ist das Verhältnis der korrekt klassifizierten Fälle zu allen Testfällen:\n",
        "\n",
        "$$\n",
        "\\text{Accuracy} = \\frac{\\text{Anzahl der korrekten Vorhersagen}}{\\text{Anzahl aller Vorhersagen}}\n",
        "$$\n",
        "\n",
        "\n",
        "Das Modell wird auf den Testdaten evaluiert, und die Accuracy wird ausgegeben. Dies gibt einen ersten Hinweis darauf, wie gut das Modell arbeitet."
      ],
      "metadata": {
        "id": "O4KHH1eWm4iv"
      }
    },
    {
      "cell_type": "code",
      "source": [
        "# Evaluierung auf Testdaten\n",
        "accuracy = nb.evaluate_on_data(X_test, y_test)\n",
        "print(f\"Accuracy: {accuracy * 100:.2f}%\")"
      ],
      "metadata": {
        "colab": {
          "base_uri": "https://localhost:8080/"
        },
        "id": "YDuK6-SQm8wz",
        "outputId": "71af29f7-4a00-449f-b0bf-b4c725056ba7"
      },
      "execution_count": 9,
      "outputs": [
        {
          "output_type": "stream",
          "name": "stdout",
          "text": [
            "Accuracy: 83.33%\n"
          ]
        }
      ]
    },
    {
      "cell_type": "markdown",
      "source": [
        "Eine Confusion Matrix stellt dar, wie gut das Modell die Klassen unterscheidet, indem es die Anzahl der True Positives, True Negatives, False Positives und False Negatives zeigt:\n",
        "\n",
        "  True Positive (TP): Fälle, bei denen das Modell korrekt eine Krankheit vorhergesagt hat.\n",
        "\n",
        "  True Negative (TN): Fälle, bei denen das Modell korrekt vorhergesagt hat, dass keine Krankheit vorliegt.\n",
        "\n",
        "  False Positive (FP): Fälle, bei denen das Modell fälschlicherweise eine Krankheit vorhergesagt hat.\n",
        "  \n",
        "  False Negative (FN): Fälle, bei denen das Modell fälschlicherweise vorhergesagt hat, dass keine Krankheit vorliegt."
      ],
      "metadata": {
        "id": "htGeilBsm_cx"
      }
    },
    {
      "cell_type": "code",
      "source": [
        "# Manuelle Berechnung der Confusion Matrix mit korrekten Vergleichen\n",
        "true_positive = sum((y_test == True) & (y_pred == True))\n",
        "true_negative = sum((y_test == False) & (y_pred == False))\n",
        "false_positive = sum((y_test == False) & (y_pred == True))\n",
        "false_negative = sum((y_test == True) & (y_pred == False))"
      ],
      "metadata": {
        "id": "oWf2ScsinE4b"
      },
      "execution_count": 10,
      "outputs": []
    },
    {
      "cell_type": "markdown",
      "source": [
        "Die Confusion Matrix wird in einer 2x2-Matrix dargestellt, in der die Werte für True Positives, True Negatives, False Positives und False Negatives dargestellt werden.\n",
        "\n",
        "Eine grafische Darstellung der Confusion Matrix ermöglicht es, die Vorhersageleistung des Modells schnell zu analysieren."
      ],
      "metadata": {
        "id": "lliDOt7jnOCI"
      }
    },
    {
      "cell_type": "code",
      "source": [
        "# Erstellen der Confusion Matrix\n",
        "cm = [[true_negative, false_positive],\n",
        "      [false_negative, true_positive]]\n",
        "\n",
        "# Darstellung der Confusion Matrix\n",
        "fig, ax = plt.subplots()\n",
        "cax = ax.matshow(cm, cmap='Blues')\n",
        "\n",
        "# Manuelles Hinzufügen der Werte in die Zellen\n",
        "for i in range(len(cm)):\n",
        "    for j in range(len(cm[i])):\n",
        "        ax.text(j, i, str(cm[i][j]), va='center', ha='center')\n",
        "\n",
        "plt.title('Confusion Matrix')\n",
        "plt.xlabel('Predicted')\n",
        "plt.ylabel('Actual')\n",
        "plt.xticks([0, 1], ['False', 'True'])\n",
        "plt.yticks([0, 1], ['False', 'True'])\n",
        "plt.colorbar(cax)\n",
        "plt.show()"
      ],
      "metadata": {
        "colab": {
          "base_uri": "https://localhost:8080/",
          "height": 497
        },
        "id": "VIjqaPXunQuw",
        "outputId": "64b6a03b-91dc-467e-ee1e-f075da67e318"
      },
      "execution_count": 11,
      "outputs": [
        {
          "output_type": "display_data",
          "data": {
            "text/plain": [
              "<Figure size 640x480 with 2 Axes>"
            ],
            "image/png": "[encoded data removed]"
          },
          "metadata": {}
        }
      ]
    }
  ]
}